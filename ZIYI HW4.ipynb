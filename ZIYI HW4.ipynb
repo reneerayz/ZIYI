{
 "cells": [
  {
   "cell_type": "markdown",
   "id": "2067f249",
   "metadata": {},
   "source": [
    "1\n",
    "The standard deviation tells us how much individual data points differ from the mean, showing the spread or variability in the dataset. It’s about how scattered the data is. The standard error of the mean tells us how accurate the sample mean is in estimating the true population mean. It decreases as the sample size gets larger, meaning the bigger the sample, the more reliable the mean. So, standard deviation is about the data’s spread, while the standard error is about how trustworthy the mean is"
   ]
  },
  {
   "cell_type": "markdown",
   "id": "84f436a5",
   "metadata": {},
   "source": [
    "2\n",
    "First, find the mean of the sample data.\n",
    "Then, calculate the standard error of the mean (SEM), which shows how much the sample mean might change when took different samples.\n",
    "Multiply the SEM by about 2 (technically 1.96) to get the margin of error for a 95% confidence interval.\n",
    "Finally, add and subtract this margin from the mean to get a range — that’s the confidence interval.\n"
   ]
  },
  {
   "cell_type": "markdown",
   "id": "f7e8ad8f",
   "metadata": {},
   "source": [
    "3\n",
    "Resample your data: Take many bootstrap samples from your original dataset. For each sample, calculate the mean. Repeat this process a lot of times to get a large set of bootstrapped sample means.\n",
    "Sort the means: Arrange the bootstrapped sample means from smallest to largest.\n",
    "Find the percentiles: Look for the 2.5th percentile and the 97.5th percentile in the sorted list of means. These values will mark the lower and upper limits of your 95% confidence interval.\n",
    "Report the interval: The range between these two percentiles is your 95% bootstrapped confidence interval, which captures the middle 95% of the bootstrapped means.\n"
   ]
  },
  {
   "cell_type": "code",
   "execution_count": null,
   "id": "9e74930e",
   "metadata": {},
   "outputs": [],
   "source": [
    "4\n",
    "import numpy as np\n",
    "\n",
    "# Sample data\n",
    "data = [15, 20, 25, 30, 35, 40, 45]\n",
    "\n",
    "# Number of bootstrap samples\n",
    "n_bootstrap = 1000\n",
    "\n",
    "# Store the bootstrap means\n",
    "bootstrap_means = []\n",
    "\n",
    "for _ in range(n_bootstrap):\n",
    "    bootstrap_sample = np.random.choice(data, size=len(data), replace=True)\n",
    "    sample_mean = np.mean(bootstrap_sample)\n",
    "    bootstrap_means.append(sample_mean)\n",
    "\n",
    "bootstrap_means.sort()\n",
    "\n",
    "lower_bound = np.percentile(bootstrap_means, 2.5)\n",
    "upper_bound = np.percentile(bootstrap_means, 97.5)\n",
    "\n",
    "print(f\"95% Bootstrap Confidence Interval for the Mean: [{lower_bound}, {upper_bound}]\")"
   ]
  },
  {
   "cell_type": "markdown",
   "id": "2563588b",
   "metadata": {},
   "source": [
    "5\n",
    "We distinguish between the population parameter and the sample statistic because the parameter is the true value we're estimating, while the statistic is our estimate from the sample. The confidence interval uses the sample statistic to give a range where the population parameter likely falls, accounting for uncertainty."
   ]
  },
  {
   "cell_type": "markdown",
   "id": "8003d645",
   "metadata": {},
   "source": [
    "6\n",
    "Bootstrapping is when you take your sample data, randomly pick values from it with replacement, which means you might pick the same value more than once, and create many new samples. You then use these samples to estimate things like the average or median to see how they might vary.\n",
    "The main purpose is to estimate how accurate or reliable your sample data is at representing the whole population, especially when you don’t have a lot of data. It helps you understand the uncertainty in your estimates.\n",
    "If you have a guess for the average (like 75), you can use bootstrapping to generate lots of new sample averages. Then, see if your guess falls within the range of those bootstrapped averages. If it does, your guess might be plausible; if it’s outside that range, your guess might be off.\n"
   ]
  },
  {
   "cell_type": "markdown",
   "id": "dc984c8d",
   "metadata": {},
   "source": [
    "7\n",
    "A confidence interval overlapping zero means that zero is a possible value for the true effect of the drug in the population. This suggests the drug might not have any effect, so we \"fail to reject the null hypothesis\" because the data doesn't give us strong enough evidence to prove otherwise.\n",
    "However, if the confidence interval doesn't include zero, it means the data provides stronger evidence that the true effect is different from zero. In that case, we would \"reject the null hypothesis\" and conclude that the drug likely has an effect.\n",
    "In summary, if zero is within the confidence interval, we can’t confidently say the drug works. If zero isn’t in the interval, we have enough evidence to say it does.\n"
   ]
  },
  {
   "cell_type": "code",
   "execution_count": null,
   "id": "c79a4e2c",
   "metadata": {},
   "outputs": [],
   "source": [
    "8\n",
    "import numpy as np\n",
    "import pandas as pd\n",
    "import matplotlib.pyplot as plt\n",
    "\n",
    "\n",
    "data = pd.DataFrame({\n",
    "    \"PatientID\": [1, 2, 3, 4, 5, 6, 7, 8, 9, 10],\n",
    "    \"InitialHealthScore\": [84, 78, 83, 81, 81, 80, 79, 85, 76, 83],\n",
    "    \"FinalHealthScore\": [86, 86, 80, 86, 84, 86, 86, 82, 83, 84]\n",
    "})\n",
    "\n",
    "np.random.seed(42)\n",
    "\n",
    "observed_diff = data['FinalHealthScore'] - data['InitialHealthScore']\n",
    "\n",
    "n_bootstrap = 1000\n",
    "bootstrap_means = []\n",
    "\n",
    "for _ in range(n_bootstrap):\n",
    "    resample_diff = np.random.choice(observed_diff, size=len(observed_diff), replace=True)\n",
    "    bootstrap_means.append(np.mean(resample_diff))\n",
    "\n",
    "lower_bound = np.percentile(bootstrap_means, 2.5)\n",
    "upper_bound = np.percentile(bootstrap_means, 97.5)\n",
    "\n",
    "print(f\"95% Bootstrap Confidence Interval: [{lower_bound}, {upper_bound}]\")\n",
    "\n",
    "plt.hist(bootstrap_means, bins=30, edgecolor='black')\n",
    "plt.axvline(x=lower_bound, color='red', linestyle='--', label=f'Lower Bound: {lower_bound}')\n",
    "plt.axvline(x=upper_bound, color='red', linestyle='--', label=f'Upper Bound: {upper_bound}')\n",
    "plt.title('Bootstrap Distribution of Health Score Differences')\n",
    "plt.xlabel('Mean Difference in Health Scores')\n",
    "plt.ylabel('Frequency')\n",
    "plt.legend()\n",
    "plt.show()"
   ]
  },
  {
   "cell_type": "markdown",
   "id": "6c54af86",
   "metadata": {},
   "source": [
    "Yes"
   ]
  }
 ],
 "metadata": {
  "kernelspec": {
   "display_name": "Python 3 (ipykernel)",
   "language": "python",
   "name": "python3"
  },
  "language_info": {
   "codemirror_mode": {
    "name": "ipython",
    "version": 3
   },
   "file_extension": ".py",
   "mimetype": "text/x-python",
   "name": "python",
   "nbconvert_exporter": "python",
   "pygments_lexer": "ipython3",
   "version": "3.11.6"
  }
 },
 "nbformat": 4,
 "nbformat_minor": 5
}
